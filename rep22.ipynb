{
 "cells": [
  {
   "cell_type": "code",
   "execution_count": 20,
   "metadata": {},
   "outputs": [],
   "source": [
    "import pandas as pd\n",
    "import numpy as np\n",
    "import matplotlib.pyplot as plt \n",
    "import seaborn as sns "
   ]
  },
  {
   "cell_type": "code",
   "execution_count": null,
   "metadata": {},
   "outputs": [
    {
     "name": "stdout",
     "output_type": "stream",
     "text": [
      "   порядковый_номер  пол   возраст            город\n",
      "0                 1    М        25           Москва\n",
      "1                 2    Ж        30  Санкт-Петербург\n",
      "2                 3    М        22      Новосибирск\n",
      "3                 4    Ж        28     Екатеринбург\n",
      "4                 5    М        35           Казань\n"
     ]
    }
   ],
   "source": [
    "data = pd.read_csv(\"./data.csv\")\n",
    "# print(data)\n",
    "\n",
    "df = pd.DataFrame(data)\n",
    "print(df.head()) # вызывает первые 5 штук"
   ]
  },
  {
   "cell_type": "code",
   "execution_count": 14,
   "metadata": {},
   "outputs": [],
   "source": [
    "df.columns = df.columns.str.strip()"
   ]
  },
  {
   "cell_type": "code",
   "execution_count": null,
   "metadata": {},
   "outputs": [
    {
     "name": "stdout",
     "output_type": "stream",
     "text": [
      "       порядковый_номер   возраст\n",
      "count              10.0      10.0\n",
      "mean                6.0      29.0\n",
      "std                 3.0       5.0\n",
      "min                 1.0      22.0\n",
      "25%                 3.0      26.0\n",
      "50%                 6.0      28.0\n",
      "75%                 8.0      32.0\n",
      "max                10.0      40.0\n"
     ]
    }
   ],
   "source": [
    "# print(df.describe())\n",
    "print(df.describe().round(0))"
   ]
  },
  {
   "cell_type": "markdown",
   "metadata": {},
   "source": [
    "DataFrame.count Count number of non-NA/null observations.\n",
    "DataFrame.max Maximum of the values in the object.\n",
    "DataFrame.min Minimum of the values in the object.\n",
    "DataFrame.mean Mean of the values.\n",
    "DataFrame.std Standard deviation of the observations.\n",
    "DataFrame.select_dtypes Subset of a DataFrame including/excluding columns based on their dtype."
   ]
  },
  {
   "cell_type": "code",
   "execution_count": null,
   "metadata": {},
   "outputs": [
    {
     "name": "stdout",
     "output_type": "stream",
     "text": [
      "   порядковый_номер  пол   возраст           город\n",
      "0                 1    М        25          Москва\n",
      "2                 3    М        22     Новосибирск\n",
      "3                 4    Ж        28    Екатеринбург\n",
      "6                 7    М        27       Челябинск\n",
      "8                 9    М        29          Самара\n",
      "9                10    Ж        24  Ростов-на-Дону\n"
     ]
    }
   ],
   "source": [
    "df1 = df[df[\"возраст\"] < 30]\n",
    "print(df1)"
   ]
  },
  {
   "cell_type": "code",
   "execution_count": null,
   "metadata": {},
   "outputs": [
    {
     "name": "stdout",
     "output_type": "stream",
     "text": [
      "   порядковый_номер  пол   возраст           город\n",
      "2                 3    М        22     Новосибирск\n",
      "9                10    Ж        24  Ростов-на-Дону\n"
     ]
    }
   ],
   "source": [
    "df1 = df[df[\"возраст\"] < 25]\n",
    "print(df1)"
   ]
  },
  {
   "cell_type": "code",
   "execution_count": 15,
   "metadata": {},
   "outputs": [
    {
     "name": "stdout",
     "output_type": "stream",
     "text": [
      "   порядковый_номер пол  возраст           город\n",
      "3                 4   Ж       28    Екатеринбург\n",
      "9                10   Ж       24  Ростов-на-Дону\n"
     ]
    }
   ],
   "source": [
    "dfwoman = df[(df[\"возраст\"] < 30) & (df[\"пол\"] == \"Ж\")]\n",
    "print(dfwoman)"
   ]
  },
  {
   "cell_type": "code",
   "execution_count": 28,
   "metadata": {},
   "outputs": [
    {
     "data": {
      "image/png": "[encoded data removed]",
      "text/plain": [
       "<Figure size 400x400 with 1 Axes>"
      ]
     },
     "metadata": {},
     "output_type": "display_data"
    }
   ],
   "source": [
    "man_woman = df[\"пол\"].value_counts()\n",
    "plt.figure(figsize=(4,4))\n",
    "plt.pie(man_woman, labels=man_woman.index, startangle=90, colors=[\"#DAEEEA\",\"#E3D1EB\"], autopct='%1.1f%%')\n",
    "plt.title(\"Pаспределение пола\")\n",
    "plt.axis(\"equal\")\n",
    "plt.show()"
   ]
  },
  {
   "cell_type": "code",
   "execution_count": 27,
   "metadata": {},
   "outputs": [
    {
     "data": {
      "image/png": "[encoded data removed]",
      "text/plain": [
       "<Figure size 400x400 with 1 Axes>"
      ]
     },
     "metadata": {},
     "output_type": "display_data"
    }
   ],
   "source": [
    "plt.figure(figsize=(4,4))\n",
    "sns.histplot(df[\"возраст\"] ) # гистаграмма \n",
    "plt.title(\"Разделение по возрасту\")\n",
    "plt.xlabel(\"возраст\")\n",
    "plt.ylabel(\"частота\")\n",
    "plt.show()"
   ]
  }
 ],
 "metadata": {
  "kernelspec": {
   "display_name": "venv",
   "language": "python",
   "name": "python3"
  },
  "language_info": {
   "codemirror_mode": {
    "name": "ipython",
    "version": 3
   },
   "file_extension": ".py",
   "mimetype": "text/x-python",
   "name": "python",
   "nbconvert_exporter": "python",
   "pygments_lexer": "ipython3",
   "version": "3.12.4"
  }
 },
 "nbformat": 4,
 "nbformat_minor": 2
}
